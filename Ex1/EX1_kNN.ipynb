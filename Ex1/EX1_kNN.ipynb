{
 "cells": [
  {
   "cell_type": "code",
   "execution_count": 1,
   "metadata": {
    "collapsed": false
   },
   "outputs": [],
   "source": [
    "import numpy as np\n",
    "import operator\n",
    "from sklearn.datasets.mldata import fetch_mldata\n",
    "import pandas as pd\n",
    "import random\n",
    "import matplotlib.pyplot as plt\n",
    "%matplotlib inline"
   ]
  },
  {
   "cell_type": "markdown",
   "metadata": {},
   "source": [
    "### Download the data"
   ]
  },
  {
   "cell_type": "code",
   "execution_count": null,
   "metadata": {
    "collapsed": false,
    "scrolled": true
   },
   "outputs": [],
   "source": [
    "mnist = fetch_mldata('MNIST original')\n",
    "data = mnist['data']\n",
    "labels= mnist['target']"
   ]
  },
  {
   "cell_type": "code",
   "execution_count": 134,
   "metadata": {
    "collapsed": false
   },
   "outputs": [],
   "source": [
    "idx = np.random.RandomState(0).choice(70000, 11000, replace = False)\n",
    "train = data[idx[:10000], :].astype(int)\n",
    "train_labels = labels[idx[:10000]]\n",
    "test = data[idx[10000:], :].astype(int)\n",
    "test_labels = labels[idx[10000:]]"
   ]
  },
  {
   "cell_type": "markdown",
   "metadata": {},
   "source": [
    "### (a) Implementation of k-NN algorithm"
   ]
  },
  {
   "cell_type": "code",
   "execution_count": 135,
   "metadata": {
    "collapsed": true
   },
   "outputs": [],
   "source": [
    "def euclidean_dist(x,y):   \n",
    "    '''euclidian dist between x and y'''\n",
    "    return np.sum(np.power(x-y,2))"
   ]
  },
  {
   "cell_type": "code",
   "execution_count": 136,
   "metadata": {
    "collapsed": false
   },
   "outputs": [],
   "source": [
    "def k_neighbors_index(q, mat, k):\n",
    "    '''get q_image, train data and k parameter returns k nearest images`  indexes '''\n",
    "    dist = []\n",
    "    for x in mat:\n",
    "        toAdd = euclidean_dist(q,x)\n",
    "        dist.append(toAdd)\n",
    "    dist = np.array(dist)\n",
    "    # sort distance by their index, thus returns the k nearest indexes\n",
    "    dist = np.argsort(dist)[:k]\n",
    "    return dist"
   ]
  },
  {
   "cell_type": "code",
   "execution_count": 137,
   "metadata": {
    "collapsed": true
   },
   "outputs": [],
   "source": [
    "def label_index(labels):\n",
    "    ''' create tuples of (label, count) sorted by the counter'''\n",
    "    ind = np.unique(labels, return_counts=True)\n",
    "    pairs = zip(ind[0], ind[1])\n",
    "    pairs.sort(key=operator.itemgetter(1))\n",
    "    return pairs.pop()[0]\n",
    "# return pairs"
   ]
  },
  {
   "cell_type": "code",
   "execution_count": 138,
   "metadata": {
    "collapsed": true
   },
   "outputs": [],
   "source": [
    "def knn_model_gen(images, labels_vec, q_image, k):\n",
    "    '''gets training set, labels of the training set, questionable image and k\n",
    "    returns the closest label to the questionable image'''\n",
    "    # get k nearest indexes\n",
    "    ind = k_neighbors_index(q_image, images, k)\n",
    "    neigh_label = labels_vec[ind]\n",
    "    # aggregate to create a dictionary of <label, instances>\n",
    "    return label_index(neigh_label)"
   ]
  },
  {
   "cell_type": "markdown",
   "metadata": {},
   "source": [
    "### (b) Run k-NN on test data"
   ]
  },
  {
   "cell_type": "code",
   "execution_count": 123,
   "metadata": {
    "collapsed": false
   },
   "outputs": [
    {
     "name": "stdout",
     "output_type": "stream",
     "text": [
      "the accuracy of the prediction is  0.868\n"
     ]
    }
   ],
   "source": [
    "def knn_single(n=1000, k=10, train, train_labels, test, test_labels):\n",
    "\n",
    "    train_set = images[:n,]\n",
    "    train_set_labels = train_labels[:n]\n",
    "    loss =0\n",
    "    for row in range(0,len(test)):\n",
    "        test_labels[row]\n",
    "        pred = knn_model_gen(train_set, train_set_labels, test[row], k)\n",
    "        if test_labels[row] != pred:\n",
    "            loss +=1\n",
    "    acc = round(1.0-loss*1.0/len(test),5)\n",
    "    print 'the accuracy of the prediction is ', acc"
   ]
  },
  {
   "cell_type": "markdown",
   "metadata": {},
   "source": [
    "A completely random predictor will predict according to the proportion of the labels.  \n",
    "We can see in the following cell that the labels in our training set are approximatly uniform distributed.  \n",
    "Thus, a random predictor will cause in 90% bad prediction, which means accuracy of ~10%.  \n",
    "The KNN predictor acts pretty much the same and has no major advantage over it."
   ]
  },
  {
   "cell_type": "code",
   "execution_count": 124,
   "metadata": {
    "collapsed": false
   },
   "outputs": [
    {
     "data": {
      "text/plain": [
       "(array([0, 1, 2, 3, 4, 5, 6, 7, 8, 9], dtype=int64),\n",
       " array([ 950, 1082,  985, 1009,  974,  965,  970, 1026,  995, 1044], dtype=int64))"
      ]
     },
     "execution_count": 124,
     "metadata": {},
     "output_type": "execute_result"
    }
   ],
   "source": [
    "np.unique(train_labels, return_counts=True)"
   ]
  },
  {
   "cell_type": "markdown",
   "metadata": {},
   "source": [
    "### (c) Plotting the accuracy as a function of k"
   ]
  },
  {
   "cell_type": "code",
   "execution_count": 125,
   "metadata": {
    "collapsed": false,
    "scrolled": true
   },
   "outputs": [
    {
     "name": "stderr",
     "output_type": "stream",
     "text": [
      "100%|██████████████████████████████████████| 1000/1000 [00:38<00:00, 13.62it/s]\n"
     ]
    }
   ],
   "source": [
    "def loss_on_k(k_min = 1, k_max=100, n=1000, train, train_labels, test, test_labels):\n",
    "    '''predict on k_min to k_max the knn algorithm, return a dictionary for each k the amount of mistakes it made'''\n",
    "    k_loss = {}\n",
    "    images=train[:n]\n",
    "    k_range = xrange(k_max, k_min-1, -1)\n",
    "    for row in range(0,len(test)):\n",
    "        # create one time the k nearest images, and each iteration take the needed first k\n",
    "        k_list = k_neighbors_index(test[row], images, k_max)\n",
    "        for k in k_range:\n",
    "            closest_ind = k_list[:k]\n",
    "            best= label_index(train_labels[closest_ind])\n",
    "            if test_labels[row] != best:\n",
    "                if k_loss.has_key(k):\n",
    "                    k_loss[k] +=1\n",
    "                else:\n",
    "                    k_loss[k] = 1\n",
    "    return k_loss"
   ]
  },
  {
   "cell_type": "code",
   "execution_count": 126,
   "metadata": {
    "collapsed": false
   },
   "outputs": [
    {
     "data": {
      "text/plain": [
       "<matplotlib.text.Text at 0x9dd6f60>"
      ]
     },
     "execution_count": 126,
     "metadata": {},
     "output_type": "execute_result"
    },
    {
     "data": {
      "image/png": "[encoded data removed]",
      "text/plain": [
       "<matplotlib.figure.Figure at 0x13de1dd8>"
      ]
     },
     "metadata": {},
     "output_type": "display_data"
    }
   ],
   "source": [
    "def acc_plot(k_loss):\n",
    "    acc = list(k_loss.values())\n",
    "    k_vals = list(k_loss)\n",
    "    acc = map(lambda x:1.0-x*1.0/len(test),acc)\n",
    "    ax = plt.plot(k_vals, acc, '--')\n",
    "    plt.xlabel('k values')\n",
    "    plt.ylabel('accuracy')\n",
    "    print 'best accuracy is ', round(max(acc),3),  'with k = ',acc.index(max(acc))+1"
   ]
  },
  {
   "cell_type": "code",
   "execution_count": 142,
   "metadata": {
    "collapsed": false,
    "scrolled": true
   },
   "outputs": [
    {
     "name": "stdout",
     "output_type": "stream",
     "text": [
      "best accuracy is  0.877 with k =  3\n"
     ]
    }
   ],
   "source": [
    "print 'best accuracy is ', round(max(acc),3),  'with k = ',acc.index(max(acc))+1"
   ]
  },
  {
   "cell_type": "markdown",
   "metadata": {},
   "source": [
    "### (d) Plotting accuracy as a function of n"
   ]
  },
  {
   "cell_type": "code",
   "execution_count": 144,
   "metadata": {
    "collapsed": false
   },
   "outputs": [
    {
     "name": "stderr",
     "output_type": "stream",
     "text": [
      "100%|██████████████████████████████████████| 1000/1000 [14:00<00:00,  1.33it/s]\n"
     ]
    },
    {
     "name": "stdout",
     "output_type": "stream",
     "text": [
      "took  840.845999956  seconds\n"
     ]
    }
   ],
   "source": [
    "# k_best = acc.index(max(acc))+1\n",
    "def loss_on_n(k_best = 5, n_max = 5000, n_min = 100, train, train_labels, test, test_labels):\n",
    "    n_loss = {}\n",
    "    images=train[:n_max]\n",
    "    n_range = range(n_max, 0, -100)\n",
    "    for row in range(0,len(test)):\n",
    "        # create one time the k nearest per each test sample\n",
    "        k_list = k_neighbors_index(test[row], images[:n_max], n_max)\n",
    "        filtered = k_list\n",
    "        for cur_n in n_range:\n",
    "            if cur_n != n_min: # filter so the k nearest images are existing in the new current training set\n",
    "                filtered = filter(lambda x: x not in range(cur_n-100,cur_n+1),filtered)\n",
    "            closest_ind = filtered[:k_best]\n",
    "            best = label_index(train_labels[closest_ind])\n",
    "            if test_labels[row] != best:\n",
    "                if n_loss.has_key(cur_n):\n",
    "                    n_loss[cur_n] +=1\n",
    "                else:\n",
    "                    n_loss[cur_n] = 1\n",
    "    return n_loss"
   ]
  },
  {
   "cell_type": "code",
   "execution_count": null,
   "metadata": {
    "collapsed": true
   },
   "outputs": [],
   "source": [
    "def acc_plot_on_n(n_loss, t_len):\n",
    "    list1, list2 = (list(t) for t in zip(*sorted(zip(list(n_loss), list(n_loss.values())))))\n",
    "    n_vals, acc = (list(t) for t in zip(*sorted(zip(list(n_loss), list(n_loss.values())))))\n",
    "    acc = map(lambda x:1-x*1.0/t_len,acc)\n",
    "    plt.plot(n_vals, acc, '--')\n",
    "    plt.xlabel('n values')\n",
    "    plt.ylabel('accuracy')"
   ]
  },
  {
   "cell_type": "markdown",
   "metadata": {},
   "source": [
    "----------------"
   ]
  },
  {
   "cell_type": "markdown",
   "metadata": {},
   "source": [
    "# Main"
   ]
  },
  {
   "cell_type": "code",
   "execution_count": null,
   "metadata": {
    "collapsed": true
   },
   "outputs": [],
   "source": [
    "knn_single(train, train_labels, test, test_labels, n=1000, k=10)"
   ]
  },
  {
   "cell_type": "code",
   "execution_count": null,
   "metadata": {
    "collapsed": true
   },
   "outputs": [],
   "source": [
    "k_loss, k_best, acc = loss_on_k(train, train_labels,test, test_labels)\n",
    "\n",
    "acc_plot(k_loss, acc)"
   ]
  },
  {
   "cell_type": "code",
   "execution_count": null,
   "metadata": {
    "collapsed": true
   },
   "outputs": [],
   "source": [
    "n_loss = loss_on_n(train, train_labels, test, test_labels, k_best, n_min = 100, n_max = 5000)\n",
    "\n",
    "acc_plot_on_n(n_loss, t_len=len(test))"
   ]
  }
 ],
 "metadata": {
  "kernelspec": {
   "display_name": "Python 2",
   "language": "python",
   "name": "python2"
  },
  "language_info": {
   "codemirror_mode": {
    "name": "ipython",
    "version": 2
   },
   "file_extension": ".py",
   "mimetype": "text/x-python",
   "name": "python",
   "nbconvert_exporter": "python",
   "pygments_lexer": "ipython2",
   "version": "2.7.12"
  }
 },
 "nbformat": 4,
 "nbformat_minor": 0
}
