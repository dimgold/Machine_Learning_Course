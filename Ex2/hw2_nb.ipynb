{
 "cells": [
  {
   "cell_type": "code",
   "execution_count": 1,
   "metadata": {
    "collapsed": false
   },
   "outputs": [],
   "source": [
    "import numpy as np\n",
    "import pandas as pd\n",
    "import scipy\n",
    "from numpy import linalg as LA\n",
    "from sklearn.preprocessing import normalize\n",
    "from sklearn.utils import shuffle\n",
    "from sklearn.datasets import fetch_mldata\n",
    "import sklearn.preprocessing\n",
    "from matplotlib import pyplot as plt\n",
    "from sklearn.svm import LinearSVC as ls\n",
    "%matplotlib inline"
   ]
  },
  {
   "cell_type": "markdown",
   "metadata": {},
   "source": [
    "# hw2 - External file\n",
    "Because ```fetch_mldata``` is not working on Shuki's machine"
   ]
  },
  {
   "cell_type": "code",
   "execution_count": 2,
   "metadata": {
    "collapsed": false
   },
   "outputs": [],
   "source": [
    "mnist = fetch_mldata('MNIST original')\n",
    "data = mnist['data']\n",
    "labels = mnist['target']\n",
    "\n",
    "neg, pos = 0,8\n",
    "train_idx = np.random.RandomState(0).permutation(where((labels[:60000] == neg) | (labels[:60000] == pos))[0])\n",
    "test_idx = np.random.RandomState(0).permutation(where((labels[60000:] == neg) | (labels[60000:] == pos))[0])\n",
    "\n",
    "train_data_unscaled = data[train_idx[:6000], :].astype(float)\n",
    "train_labels = (labels[train_idx[:6000]] == pos)*2-1\n",
    "\n",
    "validation_data_unscaled = data[train_idx[6000:], :].astype(float)\n",
    "validation_labels = (labels[train_idx[6000:]] == pos)*2-1\n",
    "\n",
    "test_data_unscaled = data[60000+test_idx, :].astype(float)\n",
    "test_labels = (labels[60000+test_idx] == pos)*2-1\n",
    "\n",
    "# Preprocessing\n",
    "train_data = sklearn.preprocessing.scale(train_data_unscaled, axis=0, with_std=False)\n",
    "validation_data = sklearn.preprocessing.scale(validation_data_unscaled, axis=0, with_std=False)\n",
    "test_data = sklearn.preprocessing.scale(test_data_unscaled, axis=0, with_std=False)"
   ]
  },
  {
   "cell_type": "code",
   "execution_count": 3,
   "metadata": {
    "collapsed": false
   },
   "outputs": [
    {
     "data": {
      "text/plain": [
       "((6000L, 784L), (5774L, 784L), (1954L, 784L))"
      ]
     },
     "execution_count": 3,
     "metadata": {},
     "output_type": "execute_result"
    }
   ],
   "source": [
    "train_data.shape, validation_data.shape, test_data.shape"
   ]
  },
  {
   "cell_type": "code",
   "execution_count": 5,
   "metadata": {
    "collapsed": false
   },
   "outputs": [
    {
     "data": {
      "text/plain": [
       "array([-1,  1])"
      ]
     },
     "execution_count": 5,
     "metadata": {},
     "output_type": "execute_result"
    }
   ],
   "source": [
    "np.unique(test_labels)"
   ]
  },
  {
   "cell_type": "markdown",
   "metadata": {},
   "source": [
    "## Perceptron algorithm"
   ]
  },
  {
   "cell_type": "code",
   "execution_count": 5,
   "metadata": {
    "collapsed": true
   },
   "outputs": [],
   "source": [
    "def perceptron(samples,samples_labels):\n",
    "    errors=0\n",
    "    w = np.zeros(samples.shape[1]) # initialize w to zeros\n",
    "    for i in range(0,len(samples)):\n",
    "        pred = np.sign(w.dot(samples[i].T)) == samples_labels[i] # marks a correct or incorrect prediction\n",
    "        if not pred: # mistake happened, need to update w\n",
    "            w+= samples[i]*samples_labels[i]\n",
    "            errors+=1\n",
    "        \n",
    "    return w"
   ]
  },
  {
   "cell_type": "markdown",
   "metadata": {},
   "source": [
    "### Q1 (a) Perceptron with different n values"
   ]
  },
  {
   "cell_type": "code",
   "execution_count": 7,
   "metadata": {
    "collapsed": false
   },
   "outputs": [],
   "source": [
    "def q1_a_perc_for_n(train_data, train_labels, test_data, test_labels, T=100):\n",
    "    n_set = [5,10,50,100,500,1000,5000]\n",
    "    # normalize the train and test data\n",
    "    train_data, test_data = normalize(train_data), normalize(test_data)\n",
    "    errors = {}\n",
    "    for n in n_set:\n",
    "        n_train, n_train_labels = train_data[:n,], train_labels[:n]\n",
    "        errors[n] ={}\n",
    "        for t in xrange(T):\n",
    "            # reshuffle train sets\n",
    "            nt_train, nt_train_labels = shuffle(n_train, n_train_labels)\n",
    "            new_w = perceptron(nt_train, nt_train_labels)\n",
    "            # calculate the test error\n",
    "            test_current_err = 0\n",
    "            for t_index in range(0, len(test_data)):\n",
    "                if np.sign(new_w.dot(test_data[t_index].T)) != test_labels[t_index]: # add error when prediction is not equal to real label\n",
    "                    test_current_err += 1\n",
    "            errors[n][t] = 1.0-test_current_err*1.0/len(test_data)\n",
    "    return errors"
   ]
  },
  {
   "cell_type": "code",
   "execution_count": 8,
   "metadata": {
    "collapsed": false
   },
   "outputs": [],
   "source": [
    "errors= q1_a_perc_for_n(train_data, train_labels, test_data,test_labels)"
   ]
  },
  {
   "cell_type": "code",
   "execution_count": 9,
   "metadata": {
    "collapsed": false
   },
   "outputs": [
    {
     "data": {
      "text/html": [
       "<div>\n",
       "<table border=\"1\" class=\"dataframe\">\n",
       "  <thead>\n",
       "    <tr style=\"text-align: right;\">\n",
       "      <th></th>\n",
       "      <th>mean</th>\n",
       "      <th>per05</th>\n",
       "      <th>per95</th>\n",
       "    </tr>\n",
       "  </thead>\n",
       "  <tbody>\n",
       "    <tr>\n",
       "      <th>5</th>\n",
       "      <td>0.796612</td>\n",
       "      <td>0.405834</td>\n",
       "      <td>0.904299</td>\n",
       "    </tr>\n",
       "    <tr>\n",
       "      <th>10</th>\n",
       "      <td>0.841325</td>\n",
       "      <td>0.587743</td>\n",
       "      <td>0.968782</td>\n",
       "    </tr>\n",
       "    <tr>\n",
       "      <th>50</th>\n",
       "      <td>0.927354</td>\n",
       "      <td>0.835056</td>\n",
       "      <td>0.975435</td>\n",
       "    </tr>\n",
       "    <tr>\n",
       "      <th>100</th>\n",
       "      <td>0.947584</td>\n",
       "      <td>0.877149</td>\n",
       "      <td>0.981781</td>\n",
       "    </tr>\n",
       "    <tr>\n",
       "      <th>500</th>\n",
       "      <td>0.980553</td>\n",
       "      <td>0.970778</td>\n",
       "      <td>0.988229</td>\n",
       "    </tr>\n",
       "    <tr>\n",
       "      <th>1000</th>\n",
       "      <td>0.984498</td>\n",
       "      <td>0.969806</td>\n",
       "      <td>0.991300</td>\n",
       "    </tr>\n",
       "    <tr>\n",
       "      <th>5000</th>\n",
       "      <td>0.987692</td>\n",
       "      <td>0.978454</td>\n",
       "      <td>0.992323</td>\n",
       "    </tr>\n",
       "  </tbody>\n",
       "</table>\n",
       "</div>"
      ],
      "text/plain": [
       "          mean     per05     per95\n",
       "5     0.796612  0.405834  0.904299\n",
       "10    0.841325  0.587743  0.968782\n",
       "50    0.927354  0.835056  0.975435\n",
       "100   0.947584  0.877149  0.981781\n",
       "500   0.980553  0.970778  0.988229\n",
       "1000  0.984498  0.969806  0.991300\n",
       "5000  0.987692  0.978454  0.992323"
      ]
     },
     "execution_count": 9,
     "metadata": {},
     "output_type": "execute_result"
    }
   ],
   "source": [
    "pd.DataFrame(errors).apply(lambda r: pd.Series({'mean': r.mean(), 'per05': r.quantile(q=0.05),'per95':r.quantile(q=0.95)})).transpose()"
   ]
  },
  {
   "cell_type": "markdown",
   "metadata": {},
   "source": [
    "### Q1 (b) Perceptron on all training data"
   ]
  },
  {
   "cell_type": "code",
   "execution_count": 10,
   "metadata": {
    "collapsed": true
   },
   "outputs": [],
   "source": [
    "def q1_b_perc_all_training(train_data,train_labels, train_data_unscaled):\n",
    "    global_w = perceptron(train_data,train_labels)\n",
    "    fig = plt.figure()\n",
    "    plot = plt.imshow(reshape(global_w  -train_data_unscaled.mean(axis=0),(28,28)), interpolation='nearest')\n",
    "    fig.colorbar(plot)\n",
    "    return global_w"
   ]
  },
  {
   "cell_type": "code",
   "execution_count": 11,
   "metadata": {
    "collapsed": false,
    "scrolled": false
   },
   "outputs": [
    {
     "data": {
      "image/png": "[encoded data removed]",
      "text/plain": [
       "<matplotlib.figure.Figure at 0x4454fd0>"
      ]
     },
     "metadata": {},
     "output_type": "display_data"
    }
   ],
   "source": [
    "global_w = q1_b_perc_all_training(train_data,train_labels, train_data_unscaled)"
   ]
  },
  {
   "cell_type": "markdown",
   "metadata": {},
   "source": [
    "The color in the above photo indicates high weight in the respective pixel. In other words, the colored zones, especially in the center, are the pixeles which have the most effect on our classifier between zero and eight digits. This makes sense since the center of the photo exists onlt for 'eight' digits but not for 'zeros', which is a good rule for classifying between them."
   ]
  },
  {
   "cell_type": "code",
   "execution_count": 12,
   "metadata": {
    "collapsed": false
   },
   "outputs": [
    {
     "data": {
      "text/plain": [
       "<matplotlib.colorbar.Colorbar at 0x14adeac8>"
      ]
     },
     "execution_count": 12,
     "metadata": {},
     "output_type": "execute_result"
    },
    {
     "data": {
      "image/png": "[encoded data removed]",
      "text/plain": [
       "<matplotlib.figure.Figure at 0x1ecd1a20>"
      ]
     },
     "metadata": {},
     "output_type": "display_data"
    }
   ],
   "source": [
    "fig = plt.figure()\n",
    "plot = plt.imshow(reshape(train_data_unscaled[train_labels == 1].mean(axis=0) - train_data_unscaled[train_labels != 1].mean(axis=0),(28,28)), interpolation='nearest')\n",
    "fig.colorbar(plot)"
   ]
  },
  {
   "cell_type": "markdown",
   "metadata": {},
   "source": [
    "### Q1 (c) classifier on the test set"
   ]
  },
  {
   "cell_type": "code",
   "execution_count": 49,
   "metadata": {
    "collapsed": true
   },
   "outputs": [],
   "source": [
    "def q1_c_perc_on_test_set(w, test_data, test_labels, ques='q1_c'):\n",
    "    errors = 0\n",
    "    for t in range(0,len(test_data)):\n",
    "        if np.sign(w.dot(test_data[t].T)) != test_labels[t]: # add error when prediction is not equal to real label\n",
    "                errors += 1\n",
    "    print ques+'Accuracy on entire test data is ', round(1-errors*1.0/len(test_data),2)\n",
    "    return 1-errors*1.0/len(test_data)"
   ]
  },
  {
   "cell_type": "code",
   "execution_count": 14,
   "metadata": {
    "collapsed": false
   },
   "outputs": [
    {
     "name": "stdout",
     "output_type": "stream",
     "text": [
      "Accuracy on entire test data is  0.99\n"
     ]
    },
    {
     "data": {
      "text/plain": [
       "0.9897645854657113"
      ]
     },
     "execution_count": 14,
     "metadata": {},
     "output_type": "execute_result"
    }
   ],
   "source": [
    "q1_c_perc_on_test_set(global_w, test_data, test_labels)"
   ]
  },
  {
   "cell_type": "markdown",
   "metadata": {},
   "source": [
    "### Q1 (d) show misclassified"
   ]
  },
  {
   "cell_type": "code",
   "execution_count": 15,
   "metadata": {
    "collapsed": true
   },
   "outputs": [],
   "source": [
    "def q1_d_perc_test_mistake(w, test_data, test_labels):\n",
    "    for t in range(0,len(test_data)):\n",
    "        if np.sign(w.dot(test_data[t].T)) != test_labels[t]: # add error when prediction is not equal to real label\n",
    "                plt.imshow(reshape(test_data_unscaled[t],(28,28)), interpolation='nearest')\n",
    "                print 'The digit is classified as ', np.sign(w.dot(test_data[t].T)), ' but it is actually', test_labels[t]\n",
    "                return test_data[t], np.sign(w.dot(test_data[t].T)), test_labels[t]"
   ]
  },
  {
   "cell_type": "code",
   "execution_count": 16,
   "metadata": {
    "collapsed": false,
    "scrolled": true
   },
   "outputs": [
    {
     "name": "stdout",
     "output_type": "stream",
     "text": [
      "The digit is classified as  -1.0  but it is actually 1\n"
     ]
    },
    {
     "data": {
      "image/png": "[encoded data removed]",
      "text/plain": [
       "<matplotlib.figure.Figure at 0xb7c8da0>"
      ]
     },
     "metadata": {},
     "output_type": "display_data"
    }
   ],
   "source": [
    "img = q1_d_perc_test_mistake(global_w, test_data, test_labels)"
   ]
  },
  {
   "cell_type": "markdown",
   "metadata": {},
   "source": [
    "This digit is labeled in the test set as eight, but our classifier labeled it as zero. At first look, it is hard to tell what digit is it. A possible explanation would be the big circle in the center, which seemed to our classifier as zero and as we saw in (b) the weights that indicates the eight digits the most are located in the center of the photo."
   ]
  },
  {
   "cell_type": "markdown",
   "metadata": {},
   "source": [
    "## SVM"
   ]
  },
  {
   "cell_type": "code",
   "execution_count": 17,
   "metadata": {
    "collapsed": true
   },
   "outputs": [],
   "source": [
    "def q2_a_SVM_C(train_data, train_labels, validation_data,validation_labels):\n",
    "    C_range = np.power(10.0,-1.0*np.arange(-10,10,1))\n",
    "    pred_validation, pred_training = [], []\n",
    "    for c in C_range:\n",
    "        clf = ls(loss='hinge', C = c, fit_intercept=False)\n",
    "        clf.fit(train_data,train_labels)\n",
    "        pred_validation.append(clf.score(validation_data, validation_labels))\n",
    "        pred_training.append(clf.score(train_data, train_labels))\n",
    "    return C_range, pred_training, pred_validation"
   ]
  },
  {
   "cell_type": "code",
   "execution_count": 18,
   "metadata": {
    "collapsed": false
   },
   "outputs": [],
   "source": [
    "def q2_a_plot(C_range, pred_validation, pred_training):\n",
    "    plt.figure()\n",
    "    plt.plot(np.log10(C_range), pred_validation)\n",
    "    plt.plot(np.log10(C_range), pred_training)\n",
    "    plt.xlabel('C values by exponent (base 10)')\n",
    "    plt.ylabel('accuracy')\n",
    "    plt.title('Training and Validation Accuracy as a function of C')\n",
    "    plt.ylim([min(pred_validation),1.02])\n",
    "    plt.legend(['Validation Accuracy','Training Accuracy'])"
   ]
  },
  {
   "cell_type": "code",
   "execution_count": 19,
   "metadata": {
    "collapsed": false,
    "scrolled": true
   },
   "outputs": [],
   "source": [
    "C_range, pred_training, pred_validation = q2_a_SVM_C(train_data, train_labels, validation_data,validation_labels)"
   ]
  },
  {
   "cell_type": "code",
   "execution_count": 20,
   "metadata": {
    "collapsed": false
   },
   "outputs": [
    {
     "data": {
      "image/png": "[encoded data removed]",
      "text/plain": [
       "<matplotlib.figure.Figure at 0x238569e8>"
      ]
     },
     "metadata": {},
     "output_type": "display_data"
    }
   ],
   "source": [
    "q2_a_plot(C_range, pred_validation, pred_training)"
   ]
  },
  {
   "cell_type": "markdown",
   "metadata": {},
   "source": [
    "## 2(b) \n",
    "High C value leads to more complex model (overfitted) that fits better to train, but less on validation. 10^(-7) is the best point for accuracy on validation since it keeps the generalisation of the model, but allows minimal errors."
   ]
  },
  {
   "cell_type": "markdown",
   "metadata": {},
   "source": [
    "## 2(c) best C"
   ]
  },
  {
   "cell_type": "code",
   "execution_count": 26,
   "metadata": {
    "collapsed": false
   },
   "outputs": [],
   "source": [
    "def q2_c_best_w(C_range,train_data, train_labels, pred_validation):\n",
    "    best_c = C_range[pred_validation.index(max(pred_validation))]\n",
    "    clf = ls(loss='hinge', C = best_c, fit_intercept=False)\n",
    "    clf.fit(train_data,train_labels)\n",
    "    best_w = clf.coef_\n",
    "    plt.figure()\n",
    "    plt.imshow(reshape(best_w,(28,28)), interpolation='nearest')\n",
    "    return clf"
   ]
  },
  {
   "cell_type": "code",
   "execution_count": 27,
   "metadata": {
    "collapsed": false
   },
   "outputs": [
    {
     "data": {
      "image/png": "[encoded data removed]",
      "text/plain": [
       "<matplotlib.figure.Figure at 0x1881ed30>"
      ]
     },
     "metadata": {},
     "output_type": "display_data"
    }
   ],
   "source": [
    "clf = q2_c_best_w(C_range,train_data, train_labels, pred_validation)"
   ]
  },
  {
   "cell_type": "markdown",
   "metadata": {},
   "source": [
    "We got a very similar image for the weights to the one we recieved on the perceptron."
   ]
  },
  {
   "cell_type": "markdown",
   "metadata": {},
   "source": [
    "## 2(d) acc on test set"
   ]
  },
  {
   "cell_type": "code",
   "execution_count": 28,
   "metadata": {
    "collapsed": false,
    "scrolled": true
   },
   "outputs": [
    {
     "name": "stdout",
     "output_type": "stream",
     "text": [
      "q2_d: Test error using the best C is : 0.994370522006\n"
     ]
    },
    {
     "data": {
      "text/plain": [
       "0.99437052200614129"
      ]
     },
     "execution_count": 28,
     "metadata": {},
     "output_type": "execute_result"
    }
   ],
   "source": [
    "def q2_d(clf, test_data, test_labels):\n",
    "    '''Q2 (d) given the SVM obj and test data and labels, prints and returns the score on the test data'''\n",
    "    score =  clf.score(test_data, test_labels)\n",
    "    print 'q2_d: Test error using the best C is :', score\n",
    "    return score\n",
    "\n",
    "q2_d(clf, test_data, test_labels)"
   ]
  },
  {
   "cell_type": "markdown",
   "metadata": {},
   "source": [
    "## SGD"
   ]
  },
  {
   "cell_type": "code",
   "execution_count": 29,
   "metadata": {
    "collapsed": true
   },
   "outputs": [],
   "source": [
    "def SVM_SGD(train_data, train_labels, C, eta0, T=1000):\n",
    "    errors=0\n",
    "    w = np.zeros(train_data.shape[1]) # initialize w to zeros\n",
    "    for i in range(T):\n",
    "        rand_index = np.random.choice(np.arange(len(train_labels))) # random choose index for the iteration\n",
    "        \n",
    "        if train_labels[rand_index]*w.dot(train_data[rand_index].T) < 1: # mistake happened, need to update w\n",
    "            eta1 = eta0/(i+1) # calculate eta_t\n",
    "            w = (1-eta1)*w+eta1*C*train_labels[rand_index]*train_data[rand_index] # update w\n",
    "            errors+=1\n",
    "        \n",
    "    return w"
   ]
  },
  {
   "cell_type": "markdown",
   "metadata": {},
   "source": [
    "## Q3 (a) SGD_SVM on several eta values"
   ]
  },
  {
   "cell_type": "code",
   "execution_count": 30,
   "metadata": {
    "collapsed": false
   },
   "outputs": [],
   "source": [
    "def q3_a_SGD_SVM_eta(train_data, train_labels, validation_data, validation_labels, K=10):\n",
    "    eta_range = np.power(10.0,-1.0*np.arange(0,10,1)) # eta range of possible values\n",
    "    accuracy= [] # accuracy list, hold per eta the accuracy\n",
    "    for eta in eta_range:\n",
    "        k_error =[]\n",
    "        for k in range(K):\n",
    "            w = SVM_SGD(train_data, train_labels, C=1, eta0=eta, T=1000) # train SGD_SVM on all training set\n",
    "            k_err =0\n",
    "            for t in range(len(validation_data)): # iterate over all validation set\n",
    "                if validation_labels[t]*np.sign(w.dot(validation_data[t].T)) <1: # in case prediction is not consistent with the label\n",
    "                    k_err +=1\n",
    "            k_error.append(1.0*k_err/len(validation_data))\n",
    "        accuracy.append(1-1.0*sum(k_error)/K)\n",
    "    return eta_range, accuracy"
   ]
  },
  {
   "cell_type": "code",
   "execution_count": 31,
   "metadata": {
    "collapsed": false
   },
   "outputs": [],
   "source": [
    "def q3_a_plot(eta_range, accuracy):\n",
    "    plt.plot(log10(eta_range), accuracy)\n",
    "    plt.xlabel('eta exponent (base 10) values')\n",
    "    plt.ylabel('accuracy')\n",
    "    plt.title('Validation accuracy as a function of eta')\n",
    "    plt.legend(['Validation Accuracy'], loc=3)"
   ]
  },
  {
   "cell_type": "code",
   "execution_count": 32,
   "metadata": {
    "collapsed": false
   },
   "outputs": [],
   "source": [
    "eta_range, accuracy = q3_a_SGD_SVM_eta(train_data, train_labels, validation_data, validation_labels)"
   ]
  },
  {
   "cell_type": "code",
   "execution_count": 33,
   "metadata": {
    "collapsed": false
   },
   "outputs": [
    {
     "data": {
      "image/png": "[encoded data removed]",
      "text/plain": [
       "<matplotlib.figure.Figure at 0x1881ecc0>"
      ]
     },
     "metadata": {},
     "output_type": "display_data"
    }
   ],
   "source": [
    "q3_a_plot(eta_range, accuracy)"
   ]
  },
  {
   "cell_type": "code",
   "execution_count": 34,
   "metadata": {
    "collapsed": false,
    "scrolled": false
   },
   "outputs": [
    {
     "name": "stdout",
     "output_type": "stream",
     "text": [
      "eta_best is  1e-06\n"
     ]
    }
   ],
   "source": [
    "eta_best = list(eta_range)[(accuracy.index(max(accuracy)))]\n",
    "print 'eta_best is ', eta_best"
   ]
  },
  {
   "cell_type": "markdown",
   "metadata": {},
   "source": [
    "Eta possible values we chose was exponential range of -9 to 0 base 10. This makes sense because eta is being updated 1/t.  \n",
    "Best value is reached at $\\eta_0=10^{-6}$  \n"
   ]
  },
  {
   "cell_type": "markdown",
   "metadata": {},
   "source": [
    "## Q3 (b) SGD on various C"
   ]
  },
  {
   "cell_type": "code",
   "execution_count": 35,
   "metadata": {
    "collapsed": false
   },
   "outputs": [],
   "source": [
    "def q3_b_SGD_SVM_C(validation_data, validation_labels, eta_best ,C_range, K=10):\n",
    "    \n",
    "    accuracy= [] # accuracy list, hold per eta the accuracy\n",
    "    for c in C_range:\n",
    "        k_error =[]\n",
    "        for k in range(K):\n",
    "            w = SVM_SGD(train_data, train_labels, C=c, eta0=eta_best, T=1000) # train SGD_SVM on all training set\n",
    "            k_err =0\n",
    "            for t in range(len(validation_data)): # iterate over all validation set \n",
    "                if validation_labels[t]*np.sign(w.dot(validation_data[t].T)) <1: # in case prediction is not consistent with the label\n",
    "                    k_err +=1\n",
    "            k_error.append(1.0*k_err/len(validation_data))\n",
    "        accuracy.append(1-1.0*sum(k_error)/K)\n",
    "    return C_range, accuracy"
   ]
  },
  {
   "cell_type": "code",
   "execution_count": 36,
   "metadata": {
    "collapsed": true
   },
   "outputs": [],
   "source": [
    "def q3_b_plot(C_range, accuracy):\n",
    "    plt.plot(np.log10(C_range), accuracy)    \n",
    "    plt.xlabel('C values by exponent (base 10)')\n",
    "    plt.ylabel('accuracy')\n",
    "    plt.title('Validation Accuracy as a function of C')\n",
    "#     plt.ylim([0.9,1.01])\n",
    "    plt.legend(['Validation Accuracy'], loc=3)"
   ]
  },
  {
   "cell_type": "code",
   "execution_count": 41,
   "metadata": {
    "collapsed": true
   },
   "outputs": [],
   "source": [
    "C_range = np.power(10.0,-1.0*np.arange(-20,20,1))"
   ]
  },
  {
   "cell_type": "code",
   "execution_count": 42,
   "metadata": {
    "collapsed": true
   },
   "outputs": [],
   "source": [
    "c_range, acc = q3_b_SGD_SVM_C(validation_data, validation_labels, eta_best, C_range = C_range)"
   ]
  },
  {
   "cell_type": "code",
   "execution_count": 43,
   "metadata": {
    "collapsed": false
   },
   "outputs": [
    {
     "data": {
      "image/png": "[encoded data removed]",
      "text/plain": [
       "<matplotlib.figure.Figure at 0x1fca2f60>"
      ]
     },
     "metadata": {},
     "output_type": "display_data"
    }
   ],
   "source": [
    "q3_b_plot(c_range, acc)"
   ]
  },
  {
   "cell_type": "code",
   "execution_count": 44,
   "metadata": {
    "collapsed": false
   },
   "outputs": [],
   "source": [
    "C_best = round(list(c_range)[(acc.index(max(acc)))],2)"
   ]
  },
  {
   "cell_type": "markdown",
   "metadata": {},
   "source": [
    "## Q3 (c) Best C and eta"
   ]
  },
  {
   "cell_type": "code",
   "execution_count": 46,
   "metadata": {
    "collapsed": false
   },
   "outputs": [],
   "source": [
    "def q3_c_best_c_eta(c_range, acc, train_data, train_labels, eta_best):\n",
    "    C_best = round(list(c_range)[(acc.index(max(acc)))],2)\n",
    "    w = SVM_SGD(train_data, train_labels, C_best, eta_best, T=20000)\n",
    "    plt.imshow(reshape(w,(28,28)), interpolation='nearest')\n",
    "    return w"
   ]
  },
  {
   "cell_type": "markdown",
   "metadata": {},
   "source": [
    "## Q3 (d) accuracy on the test set"
   ]
  },
  {
   "cell_type": "code",
   "execution_count": 50,
   "metadata": {
    "collapsed": false,
    "scrolled": true
   },
   "outputs": [
    {
     "name": "stdout",
     "output_type": "stream",
     "text": [
      "q3_dAccuracy on entire test data is  0.99\n"
     ]
    },
    {
     "data": {
      "text/plain": [
       "0.9866939611054247"
      ]
     },
     "execution_count": 50,
     "metadata": {},
     "output_type": "execute_result"
    },
    {
     "data": {
      "image/png": "[encoded data removed]",
      "text/plain": [
       "<matplotlib.figure.Figure at 0x1052b550>"
      ]
     },
     "metadata": {},
     "output_type": "display_data"
    }
   ],
   "source": [
    "w_best = q3_c_best_c_eta(c_range, acc, train_data, train_labels, eta_best)\n",
    "q1_c_perc_on_test_set(w_best, test_data, test_labels , ques = 'q3_d')"
   ]
  },
  {
   "cell_type": "code",
   "execution_count": 53,
   "metadata": {
    "collapsed": false
   },
   "outputs": [
    {
     "name": "stdout",
     "output_type": "stream",
     "text": [
      "q3_dAccuracy on entire test data is  0.97\n"
     ]
    },
    {
     "data": {
      "text/plain": [
       "0.9687819856704196"
      ]
     },
     "execution_count": 53,
     "metadata": {},
     "output_type": "execute_result"
    },
    {
     "data": {
      "image/png": "[encoded data removed]",
      "text/plain": [
       "<matplotlib.figure.Figure at 0xd8e3a20>"
      ]
     },
     "metadata": {},
     "output_type": "display_data"
    }
   ],
   "source": [
    "w_best = q3_c_best_c_eta(c_range, acc, train_data, train_labels, eta_best)\n",
    "q1_c_perc_on_test_set(w_best, test_data, test_labels , ques = 'q3_d')"
   ]
  },
  {
   "cell_type": "markdown",
   "metadata": {},
   "source": [
    "## Bonus"
   ]
  },
  {
   "cell_type": "code",
   "execution_count": null,
   "metadata": {
    "collapsed": true
   },
   "outputs": [],
   "source": [
    "import sklearn.svm as svm"
   ]
  },
  {
   "cell_type": "code",
   "execution_count": null,
   "metadata": {
    "collapsed": false
   },
   "outputs": [],
   "source": [
    "kernels = ['rbf']#,'poly2','poly3','poly4','poly5','poly6','rbf','sigmoid']\n",
    "C_range = np.power(10.0,-1.0*np.arange(-50,51,10))"
   ]
  },
  {
   "cell_type": "code",
   "execution_count": null,
   "metadata": {
    "collapsed": false
   },
   "outputs": [],
   "source": [
    "C_range"
   ]
  },
  {
   "cell_type": "code",
   "execution_count": null,
   "metadata": {
    "collapsed": false
   },
   "outputs": [],
   "source": [
    "res = []\n",
    "for K in kernels:\n",
    "    for C in C_range:\n",
    "        if K[:4]=='poly':\n",
    "            clf = svm.SVC(kernel='poly', C=C, degree=int(K[-1]),shrinking=True)\n",
    "        else:\n",
    "            clf = svm.SVC(kernel=K, C=C,shrinking = True)\n",
    "        clf.fit(train_data, train_labels) \n",
    "        preds= clf.predict(validation_data)\n",
    "        score = sum(preds== validation_labels)*1.0/len(validation_labels)\n",
    "        print K,C,score\n",
    "        res.append([K,C,score])\n",
    "d = pd.DataFrame(res, columns=['Kernel','C','Accuracy'])\n",
    "\n",
    "\n",
    "d.to_csv('CVres5.csv')"
   ]
  },
  {
   "cell_type": "markdown",
   "metadata": {},
   "source": [
    "## Best Model: Poly4 - 0.997 on validation set"
   ]
  },
  {
   "cell_type": "code",
   "execution_count": 34,
   "metadata": {
    "collapsed": false
   },
   "outputs": [
    {
     "data": {
      "text/plain": [
       "[['poly1', 10.0, 0.98856944925528234],\n",
       " ['poly1', 1.0, 0.98856944925528234],\n",
       " ['poly1', 0.10000000000000001, 0.98856944925528234],\n",
       " ['poly2', 10.0, 0.99636300658122623],\n",
       " ['poly2', 1.0, 0.99636300658122623],\n",
       " ['poly2', 0.10000000000000001, 0.99636300658122623],\n",
       " ['poly3', 10.0, 0.99688257706962247],\n",
       " ['poly3', 1.0, 0.99688257706962247],\n",
       " ['poly3', 0.10000000000000001, 0.99688257706962247],\n",
       " ['poly4', 10.0, 0.99722895739521999],\n",
       " ['poly4', 1.0, 0.99722895739521999],\n",
       " ['poly4', 0.10000000000000001, 0.99722895739521999],\n",
       " ['poly5', 10.0, 0.99636300658122623],\n",
       " ['poly5', 1.0, 0.99636300658122623],\n",
       " ['poly5', 0.10000000000000001, 0.99636300658122623],\n",
       " ['rbf', 10.0, 0.50138552130239],\n",
       " ['rbf', 1.0, 0.50138552130239],\n",
       " ['rbf', 0.10000000000000001, 0.50138552130239],\n",
       " ['sigmoid', 10.0, 0.50138552130239],\n",
       " ['sigmoid', 1.0, 0.50138552130239],\n",
       " ['sigmoid', 0.10000000000000001, 0.50138552130239]]"
      ]
     },
     "execution_count": 34,
     "metadata": {},
     "output_type": "execute_result"
    }
   ],
   "source": [
    "res"
   ]
  },
  {
   "cell_type": "code",
   "execution_count": 43,
   "metadata": {
    "collapsed": false
   },
   "outputs": [
    {
     "data": {
      "image/png": "[encoded data removed]",
      "text/plain": [
       "<matplotlib.figure.Figure at 0x18fb2048>"
      ]
     },
     "metadata": {},
     "output_type": "display_data"
    }
   ],
   "source": [
    "degree , accuracy = map(lambda x: (x[0][-1]),res[0:15:3]), map(lambda x: x[2], res[0:15:3])\n",
    "plt.plot(degree,accuracy)    \n",
    "plt.xlabel('Polynomial Degree')\n",
    "plt.ylabel('accuracy')\n",
    "plt.title('Validation Accuracy for different Polynoms degree')\n",
    "p = plt.ylim([0.985,1.0])\n",
    "p = plt.xlim([0.98,5.02])"
   ]
  },
  {
   "cell_type": "markdown",
   "metadata": {},
   "source": [
    "Poly is a great classifier not because of the circular shape (we have 784 dimentions and not 2) but thanks to the Moments theory in **pattern recognition:**\n",
    "- 1st moment of pixels = linear combination ~ Area of the shape\n",
    "- 2nd moment of pixels = quadratic combination ~ deviance from the center\n",
    "- 3rd moment ~ skewness etc.\n",
    "<br>\n",
    "This way, our classifier in less sensitive to disposition/rotation/flipping/resizing of the shape.\n",
    "Sigmoid/RBF were more weak, since they expected a specific value on each pixel, and built threshold boudaries around it - while the image is not dependant on pixel values, but on their combinations."
   ]
  },
  {
   "cell_type": "code",
   "execution_count": 44,
   "metadata": {
    "collapsed": false
   },
   "outputs": [
    {
     "name": "stdout",
     "output_type": "stream",
     "text": [
      "Performance on Test set: 0.995\n"
     ]
    }
   ],
   "source": [
    "clf = svm.SVC(kernel='poly', C=1, degree = 4)\n",
    "clf.fit(train_data, train_labels) \n",
    "preds= clf.predict(test_data)\n",
    "score = sum(preds== test_labels)*1.0/len(test_labels)\n",
    "print 'Performance on Test set:',round(score,3)"
   ]
  }
 ],
 "metadata": {
  "kernelspec": {
   "display_name": "Python 2",
   "language": "python",
   "name": "python2"
  },
  "language_info": {
   "codemirror_mode": {
    "name": "ipython",
    "version": 2
   },
   "file_extension": ".py",
   "mimetype": "text/x-python",
   "name": "python",
   "nbconvert_exporter": "python",
   "pygments_lexer": "ipython2",
   "version": "2.7.12"
  }
 },
 "nbformat": 4,
 "nbformat_minor": 0
}
